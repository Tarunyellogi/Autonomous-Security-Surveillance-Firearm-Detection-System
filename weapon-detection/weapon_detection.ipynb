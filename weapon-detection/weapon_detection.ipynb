{
 "cells": [
  {
   "cell_type": "code",
   "execution_count": 1,
   "metadata": {},
   "outputs": [
    {
     "name": "stderr",
     "output_type": "stream",
     "text": [
      "C:\\ProgramData\\Anaconda3\\lib\\site-packages\\h5py\\__init__.py:34: FutureWarning: Conversion of the second argument of issubdtype from `float` to `np.floating` is deprecated. In future, it will be treated as `np.float64 == np.dtype(float).type`.\n",
      "  from ._conv import register_converters as _register_converters\n",
      "Using TensorFlow backend.\n",
      "C:\\ProgramData\\Anaconda3\\lib\\site-packages\\sklearn\\cross_validation.py:41: DeprecationWarning: This module was deprecated in version 0.18 in favor of the model_selection module into which all the refactored classes and functions are moved. Also note that the interface of the new CV iterators are different from that of this module. This module will be removed in 0.20.\n",
      "  \"This module will be removed in 0.20.\", DeprecationWarning)\n"
     ]
    }
   ],
   "source": [
    "#importing Keras, Library for deep learning \n",
    "from keras.models import Sequential\n",
    "from keras.layers.core import Dense, Dropout, Activation, Flatten\n",
    "from keras.layers.convolutional import Convolution2D, MaxPooling2D\n",
    "from keras.utils import np_utils\n",
    "from keras.preprocessing.image import  img_to_array\n",
    "\n",
    "import numpy as np\n",
    "import cv2\n",
    "# Image manipulations and arranging data\n",
    "import os\n",
    "from PIL import Image\n",
    "from sklearn.cross_validation import train_test_split\n"
   ]
  },
  {
   "cell_type": "code",
   "execution_count": 2,
   "metadata": {},
   "outputs": [
    {
     "name": "stdout",
     "output_type": "stream",
     "text": [
      "knife\n",
      "short_gun\n",
      "weaponless\n"
     ]
    }
   ],
   "source": [
    "# input image dimensions\n",
    "m,n = 50,50\n",
    "\n",
    "path1=\"test/\"\n",
    "path2=\"train/\"\n",
    "\n",
    "classes=os.listdir(path2)\n",
    "x=[]\n",
    "y=[]\n",
    "for fol in classes:\n",
    "    print(fol)\n",
    "    imgfiles=os.listdir(path2 + '/' + fol);\n",
    "    for img in imgfiles:\n",
    "        im=Image.open(path2+'/'+fol+'/'+img);\n",
    "        im=im.convert(mode='RGB')\n",
    "        imrs=im.resize((m,n))\n",
    "        imrs=img_to_array(imrs)/255;\n",
    "        imrs=imrs.transpose(2,0,1);\n",
    "        imrs=imrs.reshape(3,m,n);\n",
    "        x.append(imrs)\n",
    "        y.append(fol)\n",
    "        \n",
    "x=np.array(x);\n",
    "y=np.array(y);\n"
   ]
  },
  {
   "cell_type": "code",
   "execution_count": 88,
   "metadata": {},
   "outputs": [
    {
     "name": "stdout",
     "output_type": "stream",
     "text": [
      "3752\n",
      "3752\n"
     ]
    }
   ],
   "source": [
    "print(len(x))\n",
    "print(len(y))"
   ]
  },
  {
   "cell_type": "code",
   "execution_count": 102,
   "metadata": {
    "collapsed": true
   },
   "outputs": [],
   "source": [
    "batch_size=32\n",
    "nb_classes=len(classes)\n",
    "nb_epoch=20\n",
    "nb_filters=32\n",
    "nb_pool=2\n",
    "nb_conv=3\n",
    "\n",
    "x_train, x_test, y_train, y_test= train_test_split(x,y,test_size=0.2,random_state=4)\n",
    "\n",
    "uniques, id_train=np.unique(y_train,return_inverse=True)\n",
    "Y_train=np_utils.to_categorical(id_train,nb_classes)\n",
    "uniques, id_test=np.unique(y_test,return_inverse=True)\n",
    "Y_test=np_utils.to_categorical(id_test,nb_classes)"
   ]
  },
  {
   "cell_type": "code",
   "execution_count": 90,
   "metadata": {},
   "outputs": [
    {
     "name": "stderr",
     "output_type": "stream",
     "text": [
      "C:\\ProgramData\\Anaconda3\\lib\\site-packages\\ipykernel_launcher.py:3: UserWarning: Update your `Conv2D` call to the Keras 2 API: `Conv2D(32, (3, 3), input_shape=(3, 50, 50..., padding=\"same\")`\n",
      "  This is separate from the ipykernel package so we can avoid doing imports until\n",
      "C:\\ProgramData\\Anaconda3\\lib\\site-packages\\ipykernel_launcher.py:5: UserWarning: Update your `Conv2D` call to the Keras 2 API: `Conv2D(32, (3, 3))`\n",
      "  \"\"\"\n",
      "C:\\ProgramData\\Anaconda3\\lib\\site-packages\\ipykernel_launcher.py:7: UserWarning: Update your `MaxPooling2D` call to the Keras 2 API: `MaxPooling2D(pool_size=(2, 2), data_format=\"channels_first\")`\n",
      "  import sys\n"
     ]
    }
   ],
   "source": [
    "#implement a CNN architecture \n",
    "model= Sequential()\n",
    "model.add(Convolution2D(nb_filters,nb_conv,nb_conv,border_mode='same',input_shape=x_train.shape[1:]))\n",
    "model.add(Activation('relu'));\n",
    "model.add(Convolution2D(nb_filters,nb_conv,nb_conv));\n",
    "model.add(Activation('relu'));\n",
    "model.add(MaxPooling2D(pool_size=(nb_pool,nb_pool), dim_ordering=\"th\"));\n",
    "model.add(Dropout(0.5));\n",
    "model.add(Flatten());\n",
    "model.add(Dense(128));\n",
    "model.add(Dropout(0.5));\n",
    "model.add(Dense(nb_classes));\n",
    "model.add(Activation('softmax'));\n",
    "model.compile(loss='categorical_crossentropy',optimizer='adadelta',metrics=['accuracy'])\n"
   ]
  },
  {
   "cell_type": "code",
   "execution_count": 103,
   "metadata": {
    "scrolled": true
   },
   "outputs": [
    {
     "name": "stdout",
     "output_type": "stream",
     "text": [
      "Train on 376 samples, validate on 94 samples\n",
      "Epoch 1/20\n",
      " 96/376 [======>.......................] - ETA: 0s - loss: 1.9513 - acc: 0.7812"
     ]
    },
    {
     "name": "stderr",
     "output_type": "stream",
     "text": [
      "C:\\ProgramData\\Anaconda3\\lib\\site-packages\\keras\\models.py:942: UserWarning: The `nb_epoch` argument in `fit` has been renamed `epochs`.\n",
      "  warnings.warn('The `nb_epoch` argument in `fit` '\n"
     ]
    },
    {
     "name": "stdout",
     "output_type": "stream",
     "text": [
      "376/376 [==============================] - 1s 1ms/step - loss: 1.1634 - acc: 0.7926 - val_loss: 0.2053 - val_acc: 0.9149\n",
      "Epoch 2/20\n",
      "376/376 [==============================] - 1s 1ms/step - loss: 0.3217 - acc: 0.8830 - val_loss: 0.1191 - val_acc: 0.9787\n",
      "Epoch 3/20\n",
      "376/376 [==============================] - 1s 1ms/step - loss: 0.1983 - acc: 0.9468 - val_loss: 0.0985 - val_acc: 0.9894\n",
      "Epoch 4/20\n",
      "376/376 [==============================] - 1s 1ms/step - loss: 0.3138 - acc: 0.8910 - val_loss: 0.0682 - val_acc: 0.9787\n",
      "Epoch 5/20\n",
      "376/376 [==============================] - 1s 1ms/step - loss: 0.0825 - acc: 0.9814 - val_loss: 0.0526 - val_acc: 0.9787\n",
      "Epoch 6/20\n",
      "376/376 [==============================] - 1s 1ms/step - loss: 0.1222 - acc: 0.9521 - val_loss: 0.0337 - val_acc: 1.0000\n",
      "Epoch 7/20\n",
      "376/376 [==============================] - 1s 1ms/step - loss: 0.1286 - acc: 0.9601 - val_loss: 0.0163 - val_acc: 1.0000\n",
      "Epoch 8/20\n",
      "376/376 [==============================] - 1s 1ms/step - loss: 0.0646 - acc: 0.9867 - val_loss: 0.0350 - val_acc: 0.9894\n",
      "Epoch 9/20\n",
      "376/376 [==============================] - 1s 1ms/step - loss: 0.0862 - acc: 0.9681 - val_loss: 0.0142 - val_acc: 1.0000\n",
      "Epoch 10/20\n",
      "376/376 [==============================] - 1s 1ms/step - loss: 0.0327 - acc: 0.9973 - val_loss: 0.0087 - val_acc: 1.0000\n",
      "Epoch 11/20\n",
      "376/376 [==============================] - 1s 1ms/step - loss: 0.0302 - acc: 0.9947 - val_loss: 0.0313 - val_acc: 0.9787\n",
      "Epoch 12/20\n",
      "376/376 [==============================] - 1s 1ms/step - loss: 0.0289 - acc: 0.9920 - val_loss: 0.0044 - val_acc: 1.0000\n",
      "Epoch 13/20\n",
      "376/376 [==============================] - 1s 1ms/step - loss: 0.0388 - acc: 0.9920 - val_loss: 0.0045 - val_acc: 1.0000\n",
      "Epoch 14/20\n",
      "376/376 [==============================] - 1s 1ms/step - loss: 0.0175 - acc: 0.9947 - val_loss: 0.0332 - val_acc: 0.9894\n",
      "Epoch 15/20\n",
      "376/376 [==============================] - 1s 1ms/step - loss: 0.0583 - acc: 0.9787 - val_loss: 0.0081 - val_acc: 1.0000\n",
      "Epoch 16/20\n",
      "376/376 [==============================] - 1s 1ms/step - loss: 0.0552 - acc: 0.9761 - val_loss: 0.0221 - val_acc: 1.0000\n",
      "Epoch 17/20\n",
      "376/376 [==============================] - 1s 1ms/step - loss: 0.0506 - acc: 0.9840 - val_loss: 0.0222 - val_acc: 0.9894\n",
      "Epoch 18/20\n",
      "376/376 [==============================] - 1s 1ms/step - loss: 0.0337 - acc: 0.9894 - val_loss: 0.0118 - val_acc: 1.0000\n",
      "Epoch 19/20\n",
      "376/376 [==============================] - 1s 1ms/step - loss: 0.0268 - acc: 0.9920 - val_loss: 0.0034 - val_acc: 1.0000\n",
      "Epoch 20/20\n",
      "376/376 [==============================] - 1s 1ms/step - loss: 0.0160 - acc: 0.9947 - val_loss: 0.0038 - val_acc: 1.0000\n"
     ]
    }
   ],
   "source": [
    "#nb_epoch=1\n",
    "#batch_size=5\n",
    "history = model.fit(x_train,Y_train,batch_size=batch_size,nb_epoch=nb_epoch,verbose=1,validation_data=(x_test, Y_test))\n",
    "model.save('second_model.h5')"
   ]
  },
  {
   "cell_type": "code",
   "execution_count": 24,
   "metadata": {},
   "outputs": [
    {
     "name": "stdout",
     "output_type": "stream",
     "text": [
      "_________________________________________________________________\n",
      "Layer (type)                 Output Shape              Param #   \n",
      "=================================================================\n",
      "conv2d_5 (Conv2D)            (None, 3, 50, 32)         14432     \n",
      "_________________________________________________________________\n",
      "activation_7 (Activation)    (None, 3, 50, 32)         0         \n",
      "_________________________________________________________________\n",
      "conv2d_6 (Conv2D)            (None, 1, 48, 32)         9248      \n",
      "_________________________________________________________________\n",
      "activation_8 (Activation)    (None, 1, 48, 32)         0         \n",
      "_________________________________________________________________\n",
      "max_pooling2d_3 (MaxPooling2 (None, 1, 24, 16)         0         \n",
      "_________________________________________________________________\n",
      "dropout_5 (Dropout)          (None, 1, 24, 16)         0         \n",
      "_________________________________________________________________\n",
      "flatten_3 (Flatten)          (None, 384)               0         \n",
      "_________________________________________________________________\n",
      "dense_5 (Dense)              (None, 128)               49280     \n",
      "_________________________________________________________________\n",
      "dropout_6 (Dropout)          (None, 128)               0         \n",
      "_________________________________________________________________\n",
      "dense_6 (Dense)              (None, 3)                 387       \n",
      "_________________________________________________________________\n",
      "activation_9 (Activation)    (None, 3)                 0         \n",
      "=================================================================\n",
      "Total params: 73,347\n",
      "Trainable params: 73,347\n",
      "Non-trainable params: 0\n",
      "_________________________________________________________________\n",
      "printing model summary:   None\n"
     ]
    }
   ],
   "source": [
    "print(\"printing model summary:  \", model.summary() )"
   ]
  },
  {
   "cell_type": "code",
   "execution_count": 14,
   "metadata": {},
   "outputs": [
    {
     "name": "stdout",
     "output_type": "stream",
     "text": [
      "dict_keys(['val_loss', 'val_acc', 'loss', 'acc'])\n"
     ]
    }
   ],
   "source": [
    "print(history.history.keys())"
   ]
  },
  {
   "cell_type": "code",
   "execution_count": 92,
   "metadata": {},
   "outputs": [
    {
     "name": "stdout",
     "output_type": "stream",
     "text": [
      "dict_keys(['val_loss', 'val_acc', 'loss', 'acc'])\n"
     ]
    },
    {
     "data": {
      "image/png": "[encoded data removed]",
      "text/plain": [
       "<matplotlib.figure.Figure at 0x14062dd30b8>"
      ]
     },
     "metadata": {},
     "output_type": "display_data"
    },
    {
     "data": {
      "image/png": "[encoded data removed]",
      "text/plain": [
       "<matplotlib.figure.Figure at 0x1400f302588>"
      ]
     },
     "metadata": {},
     "output_type": "display_data"
    }
   ],
   "source": [
    "# Visualize training history\n",
    "import matplotlib.pyplot as plt\n",
    "\n",
    "# list all data in history\n",
    "print(history.history.keys())\n",
    "# summarize history for accuracy\n",
    "plt.plot(history.history['acc'])\n",
    "plt.plot(history.history['val_acc'])\n",
    "plt.title('model accuracy')\n",
    "plt.ylabel('accuracy')\n",
    "plt.xlabel('epoch')\n",
    "plt.legend(['train', 'test'], loc='upper left')\n",
    "plt.show()\n",
    "# summarize history for loss\n",
    "plt.plot(history.history['loss'])\n",
    "plt.plot(history.history['val_loss'])\n",
    "plt.title('model loss')\n",
    "plt.ylabel('loss')\n",
    "plt.xlabel('epoch')\n",
    "plt.legend(['train', 'test'], loc='upper left')\n",
    "plt.show()\n",
    "plt.savefig('model-accuracy.png')   # save the figure to file"
   ]
  },
  {
   "cell_type": "code",
   "execution_count": 5,
   "metadata": {
    "collapsed": true
   },
   "outputs": [],
   "source": [
    "from keras.models import load_model\n",
    "model=load_model(\"firearm_model.h5\")"
   ]
  },
  {
   "cell_type": "code",
   "execution_count": 93,
   "metadata": {},
   "outputs": [
    {
     "name": "stdout",
     "output_type": "stream",
     "text": [
      "(189, 266, 3)\n",
      "(189, 266, 3)\n"
     ]
    }
   ],
   "source": [
    "image = cv2.imread('C:\\\\Users\\\\umair\\\\Desktop\\\\FYP\\\\weapon_detection\\\\test\\\\3.jpg', )\n",
    "print(image.shape)\n",
    "gray_image = cv2.cvtColor(image, cv2.COLOR_BGR2GRAY)\n",
    "print(image.shape)\n",
    "ims = cv2.resize(image, (50, 50))\n",
    "ims=img_to_array(imrs)/255\n",
    "ims=imrs.transpose(2,0,1)\n",
    "ims=imrs.reshape(3,m,n)\n",
    "x=[]\n",
    "x.append(imrs)\n",
    "x=np.array(x)\n",
    "pred = model.predict(x)"
   ]
  },
  {
   "cell_type": "code",
   "execution_count": 82,
   "metadata": {},
   "outputs": [
    {
     "name": "stdout",
     "output_type": "stream",
     "text": [
      "[[4.2479995e-05 9.9056095e-01 9.3965661e-03]]\n",
      "[4.2479995e-05 9.9056095e-01 9.3965661e-03]\n",
      "4.2479995e-05\n"
     ]
    }
   ],
   "source": [
    "print(pred)\n",
    "print(pred[0])\n",
    "print(pred[0][0])\n",
    "predictions = pred"
   ]
  },
  {
   "cell_type": "code",
   "execution_count": 83,
   "metadata": {},
   "outputs": [
    {
     "name": "stdout",
     "output_type": "stream",
     "text": [
      "Short Gun Detected: 0.99056095\n"
     ]
    }
   ],
   "source": [
    "result = max(pred[0][0], pred[0][1], pred[0][2])\n",
    "string = \"\"\n",
    "if result == pred[0][0]:\n",
    "    string = \"Knife Detected: \" + str(pred[0][0])\n",
    "elif result == pred[0][1]:\n",
    "    string = \"Short Gun Detected: \" + str(pred[0][1])\n",
    "elif result == pred[0][2]:\n",
    "    string = \"No Gun Detected: \" + str(pred[0][2])\n",
    "    \n",
    "print(string)"
   ]
  },
  {
   "cell_type": "code",
   "execution_count": 9,
   "metadata": {},
   "outputs": [
    {
     "name": "stdout",
     "output_type": "stream",
     "text": [
      "[0.00275957 0.01897274 0.97826767]\n",
      "[4.3891298e-04 1.9223195e-02 9.8033786e-01]\n",
      "[4.3777644e-04 1.9115195e-02 9.8044705e-01]\n",
      "[4.3877191e-04 1.9151822e-02 9.8040938e-01]\n",
      "[0.00198278 0.03613239 0.9618848 ]\n",
      "[0.00199541 0.03642562 0.96157897]\n",
      "[0.0020054  0.03646324 0.96153134]\n",
      "[4.6893052e-04 1.8354746e-02 9.8117632e-01]\n",
      "[4.7413277e-04 1.8516403e-02 9.8100948e-01]\n",
      "[4.7313329e-04 1.8584993e-02 9.8094189e-01]\n",
      "[4.6856358e-04 1.8594006e-02 9.8093742e-01]\n",
      "[5.6116196e-04 2.8790118e-02 9.7064871e-01]\n",
      "[5.6698377e-04 2.8661104e-02 9.7077191e-01]\n",
      "[5.6700397e-04 2.7801223e-02 9.7163177e-01]\n",
      "[7.448559e-04 1.514470e-02 9.841105e-01]\n",
      "[7.5794623e-04 1.4602219e-02 9.8463988e-01]\n",
      "[7.5351133e-04 1.4553116e-02 9.8469341e-01]\n",
      "[7.5689662e-04 1.4664808e-02 9.8457831e-01]\n",
      "[0.00203587 0.00833913 0.98962504]\n",
      "[0.00207036 0.00838294 0.9895467 ]\n",
      "[0.00207732 0.0083877  0.98953503]\n",
      "[0.00207054 0.00839299 0.9895364 ]\n",
      "[0.01434808 0.00518951 0.98046243]\n",
      "[0.01441523 0.00523863 0.98034614]\n",
      "[0.01441187 0.00517929 0.9804088 ]\n",
      "[0.04231673 0.00552037 0.95216286]\n",
      "[0.04213045 0.0052499  0.9526197 ]\n",
      "[0.04240936 0.00519921 0.9523915 ]\n",
      "[0.04314043 0.00519257 0.951667  ]\n",
      "[0.11273313 0.00380545 0.8834615 ]\n",
      "[0.11250305 0.00379973 0.8836972 ]\n",
      "[0.11234208 0.00378308 0.8838749 ]\n",
      "[0.23292738 0.0022527  0.76481986]\n",
      "[0.23229644 0.00223842 0.7654651 ]\n",
      "[0.2329154  0.00228173 0.7648029 ]\n",
      "[0.23372433 0.00229183 0.7639838 ]\n",
      "[0.24322997 0.00208231 0.7546878 ]\n",
      "[0.24567957 0.00206495 0.7522555 ]\n",
      "[0.24418488 0.00206831 0.7537468 ]\n",
      "[0.25326255 0.00195301 0.7447844 ]\n",
      "[0.10527327 0.0038427  0.89088404]\n",
      "[0.10470895 0.00377962 0.89151144]\n",
      "[0.10528357 0.00377772 0.89093864]\n",
      "[0.0457758  0.00685564 0.9473685 ]\n",
      "[0.04604785 0.00691083 0.94704133]\n",
      "[0.04729766 0.00689578 0.94580656]\n",
      "[0.04739681 0.00693882 0.94566435]\n",
      "[0.05179067 0.00680962 0.94139975]\n",
      "[0.05205651 0.00674094 0.9412026 ]\n",
      "[0.05144348 0.00671844 0.9418381 ]\n",
      "[0.07275064 0.00547551 0.9217738 ]\n",
      "[0.07361504 0.00549476 0.9208902 ]\n",
      "[0.07353327 0.00535315 0.92111355]\n",
      "[0.07314756 0.00533575 0.9215167 ]\n",
      "[0.22723264 0.00311043 0.76965696]\n",
      "[0.22699223 0.00312585 0.7698819 ]\n",
      "[0.22641082 0.00313213 0.7704571 ]\n",
      "[0.226823   0.00311781 0.77005917]\n",
      "[0.27565676 0.0030613  0.72128195]\n",
      "[0.27355507 0.00301971 0.7234252 ]\n",
      "[0.27201042 0.00295175 0.7250378 ]\n",
      "[0.02640856 0.00416307 0.96942836]\n",
      "[0.02645522 0.00414498 0.9693998 ]\n",
      "[0.02581845 0.00415649 0.97002506]\n",
      "[0.02572805 0.00422272 0.9700492 ]\n",
      "[0.00715895 0.00179425 0.99104685]\n",
      "[0.00702854 0.00180494 0.99116653]\n",
      "[0.00704908 0.00181742 0.9911335 ]\n",
      "[0.05476537 0.00805496 0.9371797 ]\n",
      "[0.05485237 0.00812741 0.93702024]\n",
      "[0.05541699 0.00819333 0.93638974]\n",
      "[0.05543788 0.00810772 0.9364544 ]\n",
      "[0.00921076 0.01985035 0.97093886]\n",
      "[0.00929212 0.01998821 0.9707197 ]\n",
      "[0.00943608 0.0204464  0.9701175 ]\n",
      "[0.00965693 0.02034564 0.96999747]\n",
      "[0.04252195 0.01293637 0.9445417 ]\n",
      "[0.04270641 0.01291501 0.94437855]\n",
      "[0.04269055 0.01278418 0.9445253 ]\n",
      "[0.08420092 0.00845627 0.90734285]\n",
      "[0.08495203 0.00853943 0.90650856]\n",
      "[0.08408271 0.00851008 0.9074072 ]\n",
      "[0.08468273 0.0086208  0.9066965 ]\n",
      "[0.07392315 0.00295266 0.92312425]\n",
      "[0.07461903 0.00298423 0.9223967 ]\n",
      "[0.07449222 0.00296237 0.92254543]\n",
      "[0.23355685 0.00384012 0.76260304]\n",
      "[0.23418188 0.00383138 0.7619868 ]\n",
      "[0.23420842 0.00382042 0.7619712 ]\n",
      "[0.23641232 0.00382838 0.7597593 ]\n",
      "[0.321288   0.00312676 0.6755852 ]\n",
      "[0.31762552 0.00312829 0.6792462 ]\n",
      "[0.31685987 0.00313796 0.6800022 ]\n",
      "[0.3206314  0.00313149 0.67623705]\n",
      "[0.18980902 0.00423408 0.8059569 ]\n",
      "[0.18949357 0.00421532 0.80629116]\n",
      "[0.19009733 0.00422173 0.80568093]\n",
      "[0.15168352 0.00425441 0.8440621 ]\n",
      "[0.1521846  0.00431631 0.8434991 ]\n",
      "[0.1541292  0.00431528 0.8415555 ]\n",
      "[0.15379745 0.004343   0.8418595 ]\n",
      "[0.142957  0.0036223 0.8534207]\n",
      "[0.14349397 0.00367882 0.8528272 ]\n",
      "[0.13988164 0.00364342 0.8564749 ]\n",
      "[0.14891757 0.0031763  0.8479061 ]\n",
      "[0.14958188 0.00324328 0.8471748 ]\n",
      "[0.14991957 0.00327096 0.84680945]\n",
      "[0.14978188 0.0032761  0.846942  ]\n",
      "[0.13614878 0.00220752 0.8616437 ]\n",
      "[0.1362769 0.0022418 0.8614813]\n",
      "[0.13508134 0.00224494 0.8626737 ]\n",
      "[0.13339677 0.00228061 0.8643226 ]\n",
      "[0.10993749 0.00213242 0.88793015]\n",
      "[0.11008231 0.00216443 0.8877533 ]\n",
      "[0.10887732 0.00219437 0.88892835]\n",
      "[0.06495489 0.00545227 0.92959285]\n",
      "[0.06468061 0.00546992 0.92984945]\n",
      "[0.06407131 0.00546554 0.93046314]\n",
      "[0.06421281 0.00554599 0.93024117]\n",
      "[0.08312723 0.00607131 0.9108015 ]\n",
      "[0.08528044 0.00589352 0.90882605]\n",
      "[0.08566374 0.00591072 0.90842557]\n",
      "[0.10261654 0.00533301 0.89205045]\n",
      "[0.10350363 0.00528375 0.8912126 ]\n",
      "[0.1033299  0.00527537 0.8913947 ]\n",
      "[0.10422216 0.00527177 0.890506  ]\n",
      "[0.08547262 0.01319017 0.90133715]\n",
      "[0.08587784 0.01290828 0.9012139 ]\n",
      "[0.08453938 0.01289235 0.90256834]\n",
      "[0.08387531 0.01284834 0.9032763 ]\n",
      "[0.04986886 0.02845332 0.92167777]\n",
      "[0.04993904 0.02835388 0.92170703]\n",
      "[0.04858467 0.02794042 0.9234749 ]\n",
      "[0.028451   0.08186762 0.88968134]\n",
      "[0.02812783 0.08211681 0.88975537]\n",
      "[0.02723322 0.08120938 0.8915574 ]\n",
      "[0.02717969 0.08070821 0.89211214]\n",
      "[0.00848759 0.15429872 0.8372137 ]\n",
      "[0.00849788 0.1551932  0.83630896]\n",
      "[0.00846263 0.15631609 0.83522135]\n",
      "[0.00965998 0.18250754 0.8078324 ]\n",
      "[0.00965019 0.18127954 0.8090703 ]\n",
      "[0.00972818 0.18179524 0.80847657]\n",
      "[0.00959859 0.18120027 0.8092011 ]\n",
      "[0.02561875 0.19201128 0.78237003]\n",
      "[0.02576423 0.19214806 0.7820876 ]\n",
      "[0.02598974 0.19062705 0.7833832 ]\n",
      "[0.0261483  0.18899542 0.78485626]\n",
      "[0.04768918 0.21104158 0.7412693 ]\n",
      "[0.04803176 0.20898257 0.74298567]\n",
      "[0.04869328 0.20558828 0.7457185 ]\n",
      "[0.10758301 0.24487917 0.6475378 ]\n",
      "[0.1084314 0.2452155 0.6463531]\n",
      "[0.10868968 0.24519946 0.64611095]\n",
      "[0.10918375 0.24518721 0.64562905]\n",
      "[0.9634115  0.01587417 0.02071442]\n",
      "[0.9635286  0.01572721 0.02074419]\n",
      "[0.9631279  0.01596295 0.02090921]\n",
      "[0.94146556 0.03105525 0.02747922]\n",
      "[0.94139713 0.03093702 0.02766588]\n",
      "[0.9416404  0.03067563 0.02768395]\n",
      "[0.94144434 0.03079669 0.02775897]\n",
      "[0.69168115 0.25302085 0.05529797]\n",
      "[0.691784   0.25275064 0.0554654 ]\n",
      "[0.69197947 0.25213072 0.05588991]\n",
      "[0.6856073  0.25910953 0.05528313]\n",
      "[0.6176056  0.32623887 0.05615559]\n",
      "[0.6152397  0.32874578 0.0560145 ]\n",
      "[0.6162943  0.32786942 0.05583623]\n",
      "[0.7844437  0.13786791 0.07768834]\n",
      "[0.7854037  0.13671364 0.07788263]\n",
      "[0.7869439  0.13577096 0.0772851 ]\n",
      "[0.7842217  0.13772444 0.07805388]\n",
      "[0.6481592  0.21609639 0.13574442]\n",
      "[0.648715   0.21629737 0.13498762]\n",
      "[0.6491771  0.2149929  0.13582996]\n",
      "[0.5751779  0.32233652 0.10248552]\n",
      "[0.5748465  0.3225322  0.10262128]\n",
      "[0.57563245 0.3213931  0.10297443]\n",
      "[0.57454497 0.32236695 0.10308805]\n",
      "[0.5930454  0.33248374 0.07447087]\n",
      "[0.5911463 0.3335723 0.0752814]\n",
      "[0.5890759  0.33582613 0.07509793]\n",
      "[0.5923888  0.33315077 0.07446035]\n",
      "[0.51245695 0.40886882 0.07867424]\n",
      "[0.5124802  0.40849477 0.07902507]\n",
      "[0.51522464 0.40652272 0.07825271]\n",
      "[0.50036496 0.43494102 0.06469394]\n",
      "[0.4940731  0.4404713  0.06545567]\n",
      "[0.49263468 0.44183195 0.06553342]\n",
      "[0.49220052 0.4429369  0.06486256]\n",
      "[0.5470902  0.40305963 0.04985018]\n",
      "[0.54616636 0.40400833 0.04982533]\n",
      "[0.54887027 0.4015806  0.04954907]\n",
      "[0.31219098 0.5974212  0.09038778]\n",
      "[0.32046562 0.5878453  0.09168912]\n",
      "[0.32579818 0.58283955 0.09136233]\n",
      "[0.32474154 0.5818204  0.09343799]\n",
      "[0.26762664 0.66673595 0.06563738]\n",
      "[0.2700657  0.6609114  0.06902289]\n",
      "[0.27530804 0.65052783 0.07416409]\n",
      "[0.28240323 0.63947517 0.07812158]\n",
      "[0.35251755 0.57886213 0.06862035]\n",
      "[0.36744872 0.55699784 0.07555343]\n",
      "[0.34545013 0.5682023  0.08634762]\n",
      "[0.39656264 0.52955556 0.07388178]\n",
      "[0.41865304 0.498276   0.08307096]\n",
      "[0.4405523 0.4658834 0.0935643]\n",
      "[0.4458418  0.4452671  0.10889102]\n",
      "[0.5064986  0.39298597 0.1005154 ]\n",
      "[0.53342485 0.3460761  0.12049911]\n",
      "[0.5555954  0.30195746 0.14244708]\n",
      "[0.59142435 0.2560596  0.15251611]\n",
      "[0.5962458  0.22085874 0.18289544]\n",
      "[0.59377956 0.1856403  0.22058015]\n",
      "[0.58463985 0.15716581 0.2581943 ]\n",
      "[0.5463978  0.12085067 0.3327516 ]\n",
      "[0.53928477 0.12116513 0.33955008]\n",
      "[0.53616697 0.1224138  0.34141922]\n",
      "[0.5164143  0.12473814 0.35884753]\n",
      "[0.51359874 0.12645274 0.3599486 ]\n",
      "[0.51071274 0.12845321 0.36083403]\n",
      "[0.4979433  0.11789179 0.38416493]\n",
      "[0.4980054  0.11886748 0.38312712]\n",
      "[0.5008538  0.11863388 0.38051236]\n",
      "[0.50283563 0.11717706 0.3799872 ]\n",
      "[0.52241474 0.10405829 0.37352693]\n",
      "[0.52157384 0.10432988 0.3740962 ]\n",
      "[0.52265555 0.10369081 0.37365362]\n",
      "[0.49653086 0.10386991 0.39959925]\n",
      "[0.49797794 0.10241022 0.3996118 ]\n",
      "[0.4982521  0.10227782 0.39947015]\n"
     ]
    },
    {
     "name": "stdout",
     "output_type": "stream",
     "text": [
      "[0.49822414 0.10273793 0.39903793]\n",
      "[0.5823995  0.08310705 0.33449343]\n",
      "[0.58216107 0.0825495  0.33528945]\n",
      "[0.58146995 0.08263317 0.33589688]\n",
      "[0.5816192  0.08313547 0.33524525]\n",
      "[0.62451595 0.06944145 0.30604255]\n",
      "[0.6274905  0.06911623 0.3033933 ]\n",
      "[0.62646997 0.0688999  0.3046302 ]\n",
      "[0.56242126 0.07760314 0.35997552]\n",
      "[0.5633763  0.07793557 0.3586881 ]\n",
      "[0.56517935 0.07860838 0.35621226]\n",
      "[0.56677943 0.07815878 0.35506174]\n",
      "[0.5686812  0.08839139 0.34292743]\n",
      "[0.5626629  0.08902554 0.34831163]\n",
      "[0.56203455 0.08904788 0.3489176 ]\n",
      "[0.59523547 0.09855755 0.30620703]\n",
      "[0.5923277  0.09890539 0.3087669 ]\n",
      "[0.59112126 0.09864496 0.3102338 ]\n",
      "[0.5890056 0.099609  0.3113854]\n",
      "[0.6649021  0.0863784  0.24871953]\n",
      "[0.6699224  0.08576924 0.24430838]\n",
      "[0.6702869  0.08484941 0.24486366]\n",
      "[0.6706871  0.08504985 0.24426307]\n",
      "[0.69953513 0.08047356 0.21999125]\n",
      "[0.69999135 0.08092535 0.21908337]\n",
      "[0.69986695 0.08074091 0.21939212]\n",
      "[0.6904757  0.07596937 0.2335549 ]\n",
      "[0.6894037  0.07572383 0.23487248]\n",
      "[0.6892072  0.07587306 0.23491979]\n",
      "[0.6887448  0.07646975 0.23478542]\n",
      "[0.7001709  0.07069794 0.22913118]\n",
      "[0.69898784 0.06922442 0.23178776]\n",
      "[0.69953567 0.06881177 0.23165248]\n",
      "[0.6710048  0.06842621 0.26056895]\n",
      "[0.67322224 0.06972571 0.2570521 ]\n",
      "[0.6731395  0.06980486 0.2570557 ]\n",
      "[0.6709414  0.07034754 0.25871107]\n",
      "[0.68295664 0.06520133 0.25184202]\n",
      "[0.68995667 0.06295466 0.24708866]\n",
      "[0.68781096 0.06313565 0.24905342]\n",
      "[0.6887624  0.06254648 0.24869104]\n",
      "[0.66305256 0.07531963 0.2616278 ]\n",
      "[0.66237515 0.07544249 0.26218233]\n",
      "[0.66536593 0.07469694 0.25993717]\n",
      "[0.6199356  0.0823475  0.29771698]\n",
      "[0.6215784  0.08146679 0.2969548 ]\n",
      "[0.62340444 0.08191148 0.2946841 ]\n",
      "[0.62051016 0.08263718 0.29685265]\n",
      "[0.5768555  0.09389597 0.32924852]\n",
      "[0.5754489  0.09411246 0.3304386 ]\n",
      "[0.57204694 0.09428148 0.33367166]\n",
      "[0.6099326  0.09584533 0.29422206]\n",
      "[0.6025078  0.09832785 0.29916435]\n",
      "[0.60501003 0.09550766 0.29948238]\n",
      "[0.60219526 0.09641325 0.30139154]\n",
      "[0.62443614 0.09883779 0.27672613]\n",
      "[0.62626904 0.09787983 0.27585113]\n",
      "[0.6265622 0.0979429 0.2754949]\n",
      "[0.6287065  0.09656993 0.27472353]\n",
      "[0.6170369  0.10489026 0.27807277]\n",
      "[0.61698604 0.10545994 0.27755406]\n",
      "[0.6145333  0.10594983 0.27951682]\n",
      "[0.6147373  0.10158501 0.28367773]\n",
      "[0.61250895 0.10111573 0.2863753 ]\n",
      "[0.61563194 0.10029947 0.28406864]\n",
      "[0.6167571  0.09964214 0.28360072]\n",
      "[0.62563807 0.1055187  0.26884317]\n",
      "[0.6223364  0.10662411 0.27103943]\n",
      "[0.6259606  0.10408134 0.26995805]\n",
      "[0.6030165  0.08780318 0.30918038]\n",
      "[0.6046463  0.08698904 0.30836466]\n",
      "[0.6043971  0.08666513 0.30893782]\n",
      "[0.6068529  0.08576342 0.30738372]\n",
      "[0.6471406  0.06143465 0.2914248 ]\n",
      "[0.6455325  0.06103273 0.29343477]\n",
      "[0.6488202  0.06003544 0.29114437]\n",
      "[0.64564896 0.05949033 0.29486078]\n",
      "[0.6217798  0.06060673 0.31761342]\n",
      "[0.6197456  0.05963262 0.3206218 ]\n",
      "[0.61888826 0.05940174 0.32170996]\n",
      "[0.597599   0.06111168 0.3412893 ]\n",
      "[0.5999835  0.0610235  0.33899298]\n",
      "[0.5994085  0.06043435 0.34015718]\n",
      "[0.5961251  0.06161344 0.34226146]\n",
      "[0.5275202  0.07325258 0.39922723]\n",
      "[0.52829146 0.07253297 0.39917552]\n",
      "[0.5310497  0.07144856 0.39750168]\n",
      "[0.5030665 0.0786048 0.4183288]\n",
      "[0.5027101  0.07764633 0.41964358]\n",
      "[0.50184757 0.07749975 0.42065266]\n",
      "[0.5035644  0.07731859 0.41911694]\n",
      "[0.5133699 0.071991  0.4146391]\n",
      "[0.51138633 0.07311089 0.41550273]\n",
      "[0.5113506  0.07350022 0.41514927]\n",
      "[0.5138667  0.07331374 0.41281953]\n",
      "[0.5033691  0.07197094 0.42465994]\n",
      "[0.50211567 0.07115285 0.4267315 ]\n",
      "[0.5039022  0.07029938 0.42579845]\n",
      "[0.5404225  0.06683546 0.39274204]\n",
      "[0.540727   0.06690968 0.3923633 ]\n",
      "[0.5406694  0.0670175  0.39231312]\n"
     ]
    },
    {
     "ename": "SyntaxError",
     "evalue": "'break' outside loop (<ipython-input-9-25a0ddfaf40d>, line 36)",
     "output_type": "error",
     "traceback": [
      "\u001b[1;36m  File \u001b[1;32m\"<ipython-input-9-25a0ddfaf40d>\"\u001b[1;36m, line \u001b[1;32m36\u001b[0m\n\u001b[1;33m    break\u001b[0m\n\u001b[1;37m         ^\u001b[0m\n\u001b[1;31mSyntaxError\u001b[0m\u001b[1;31m:\u001b[0m 'break' outside loop\n"
     ]
    }
   ],
   "source": [
    "webcam = cv2.VideoCapture('knife_video.mp4')\n",
    "#cv2.namedWindow(\"Gun Detection\", cv2.WINDOW_AUTOSIZE)\n",
    "#files=os.listdir(path1)\n",
    "\n",
    "while(True):\n",
    "    _, img = webcam.read()\n",
    "    #img=files[i]\n",
    "    imrs = cv2.resize(img, (m,n))\n",
    "    imrs=img_to_array(imrs)/255\n",
    "    imrs=imrs.transpose(2,0,1)\n",
    "    imrs=imrs.reshape(3,m,n)\n",
    "    x=[]\n",
    "    x.append(imrs)\n",
    "    x=np.array(x)\n",
    "    predictions = model.predict(x)\n",
    "    #print(\"printing model predictions:   \",predictions)\n",
    "    result = max(predictions[0][0], predictions[0][1], predictions[0][2])\n",
    "    if result == predictions[0][0]:\n",
    "        string = \"Knife Detected: \" + str(predictions[0])\n",
    "    elif result == predictions[0][1]:\n",
    "        string = \"Short Gun Detected: \" + str(predictions[0])\n",
    "    elif result == predictions[0][2]:\n",
    "        string = \"No Weapon Detected: \" + str(predictions[0])\n",
    "    else:\n",
    "        string = \"No Weapon Detected: \" + str(predictions[0])\n",
    "\n",
    "    print(predictions[0])    \n",
    "    cv2.putText(img, string , (5, 100), cv2.FONT_HERSHEY_PLAIN, 1, (66, 53, 243), 2)\n",
    "\n",
    "    #cv2.putText(img, \"ESC to exit\", (5, img.shape[0] - 5), cv2.FONT_HERSHEY_PLAIN, 1.3, (66, 53, 243), 2, cv2.LINE_AA)\n",
    "    cv2.imshow(\"Gun Detection\", img) # live feed in external\n",
    "    if cv2.waitKey(40) & 0xFF == 27:\n",
    "        cv2.destroyAllWindows()\n",
    "        break\n",
    "    cv2.waitKey(10)\n",
    "break\n"
   ]
  },
  {
   "cell_type": "code",
   "execution_count": 84,
   "metadata": {},
   "outputs": [
    {
     "data": {
      "text/plain": [
       "-5"
      ]
     },
     "execution_count": 84,
     "metadata": {},
     "output_type": "execute_result"
    }
   ],
   "source": [
    "a=-15\n",
    "b=-5\n",
    "c= -47\n",
    "d = max(a,b,c)\n",
    "d"
   ]
  },
  {
   "cell_type": "code",
   "execution_count": 50,
   "metadata": {
    "collapsed": true
   },
   "outputs": [],
   "source": [
    "webcam.release()"
   ]
  },
  {
   "cell_type": "code",
   "execution_count": null,
   "metadata": {
    "collapsed": true
   },
   "outputs": [],
   "source": []
  }
 ],
 "metadata": {
  "kernelspec": {
   "display_name": "Python 3",
   "language": "python",
   "name": "python3"
  },
  "language_info": {
   "codemirror_mode": {
    "name": "ipython",
    "version": 3
   },
   "file_extension": ".py",
   "mimetype": "text/x-python",
   "name": "python",
   "nbconvert_exporter": "python",
   "pygments_lexer": "ipython3",
   "version": "3.6.2"
  }
 },
 "nbformat": 4,
 "nbformat_minor": 2
}
